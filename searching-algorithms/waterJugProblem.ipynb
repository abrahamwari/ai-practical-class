{
 "cells": [
  {
   "cell_type": "code",
   "execution_count": 1,
   "metadata": {},
   "outputs": [],
   "source": [
    "def gcd(a,b):\n",
    "  if a==0:\n",
    "    return b\n",
    "  else:\n",
    "    return gcd(b%a,a)"
   ]
  },
  {
   "cell_type": "code",
   "execution_count": 2,
   "metadata": {},
   "outputs": [],
   "source": [
    "m=int(input(\"Enter the capacity of the first jug\"))\n",
    "n=int(input(\"Enter the capacity of the second jug\"))\n",
    "d=int(input(\"Enter the goal number of liters\"))"
   ]
  },
  {
   "cell_type": "code",
   "execution_count": 3,
   "metadata": {},
   "outputs": [],
   "source": [
    "if d % gcd(m,n) != 0:\n",
    "    print(\"Solution Not feasible\")"
   ]
  },
  {
   "cell_type": "code",
   "execution_count": 4,
   "metadata": {},
   "outputs": [
    {
     "ename": "NameError",
     "evalue": "name 'b' is not defined",
     "output_type": "error",
     "traceback": [
      "\u001b[1;31m---------------------------------------------------------------------------\u001b[0m",
      "\u001b[1;31mNameError\u001b[0m                                 Traceback (most recent call last)",
      "\u001b[1;32md:\\study\\sem6\\ai lab\\waterJugProblem.ipynb Cell 4\u001b[0m in \u001b[0;36m<cell line: 1>\u001b[1;34m()\u001b[0m\n\u001b[1;32m----> <a href='vscode-notebook-cell:/d%3A/study/sem6/ai%20lab/waterJugProblem.ipynb#W3sZmlsZQ%3D%3D?line=0'>1</a>\u001b[0m \u001b[39mif\u001b[39;00m(b\u001b[39m>\u001b[39ma):\n\u001b[0;32m      <a href='vscode-notebook-cell:/d%3A/study/sem6/ai%20lab/waterJugProblem.ipynb#W3sZmlsZQ%3D%3D?line=1'>2</a>\u001b[0m     a, b \u001b[39m=\u001b[39m b, a\n\u001b[0;32m      <a href='vscode-notebook-cell:/d%3A/study/sem6/ai%20lab/waterJugProblem.ipynb#W3sZmlsZQ%3D%3D?line=3'>4</a>\u001b[0m \u001b[39mwhile\u001b[39;00m(x\u001b[39m+\u001b[39my\u001b[39m!=\u001b[39md):\n",
      "\u001b[1;31mNameError\u001b[0m: name 'b' is not defined"
     ]
    }
   ],
   "source": [
    "if(b>a):\n",
    "    a, b = b, a\n",
    "\n",
    "while(x+y!=d):\n",
    "    print(f\"{x} {y}\")\n",
    "    if(x==0):\n",
    "        x=a\n",
    "        continue\n",
    "    if(y!=b):\n",
    "        temp = min(x,b-y)\n",
    "        x-= temp\n",
    "        y+= temp\n",
    "        continue\n",
    "    if(y==b):\n",
    "        y=0\n",
    "        continue\n",
    "print(f\"{x} {y}\")"
   ]
  }
 ],
 "metadata": {
  "kernelspec": {
   "display_name": "Python 3",
   "language": "python",
   "name": "python3"
  },
  "language_info": {
   "codemirror_mode": {
    "name": "ipython",
    "version": 3
   },
   "file_extension": ".py",
   "mimetype": "text/x-python",
   "name": "python",
   "nbconvert_exporter": "python",
   "pygments_lexer": "ipython3",
   "version": "3.10.5"
  },
  "orig_nbformat": 4,
  "vscode": {
   "interpreter": {
    "hash": "865d8b2eb28e274047ba64063dfb6a2aabf0dfec4905d304d7a76618dae6fdd4"
   }
  }
 },
 "nbformat": 4,
 "nbformat_minor": 2
}
